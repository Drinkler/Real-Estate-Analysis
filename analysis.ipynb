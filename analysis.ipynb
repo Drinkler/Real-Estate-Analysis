{
  "nbformat": 4,
  "nbformat_minor": 0,
  "metadata": {
    "colab": {
      "name": "Kopie von analysis.ipynb",
      "provenance": [],
      "toc_visible": true,
      "include_colab_link": true
    },
    "kernelspec": {
      "name": "python3",
      "display_name": "Python 3"
    }
  },
  "cells": [
    {
      "cell_type": "markdown",
      "metadata": {
        "id": "view-in-github",
        "colab_type": "text"
      },
      "source": [
        "<a href=\"https://colab.research.google.com/github/Drinkler/Real-Estate-Analysis/blob/main/analysis.ipynb\" target=\"_parent\"><img src=\"https://colab.research.google.com/assets/colab-badge.svg\" alt=\"Open In Colab\"/></a>"
      ]
    },
    {
      "cell_type": "markdown",
      "metadata": {
        "id": "RK1HKBFoYZIV"
      },
      "source": [
        "# Data Science Programmentwurf von Luca Fischer und Florian Drinkler\n",
        "\n",
        "Matrikelnummern: 4819233, 6653948"
      ]
    },
    {
      "cell_type": "code",
      "metadata": {
        "id": "1m8AwF1aYQ4v"
      },
      "source": [
        ""
      ],
      "execution_count": null,
      "outputs": []
    }
  ]
}