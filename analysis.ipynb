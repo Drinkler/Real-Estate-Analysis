{
  "nbformat": 4,
  "nbformat_minor": 0,
  "metadata": {
    "colab": {
      "name": "analysis.ipynb",
      "provenance": []
    },
    "kernelspec": {
      "name": "python3",
      "display_name": "Python 3"
    }
  },
  "cells": [
    {
      "cell_type": "markdown",
      "metadata": {
        "id": "RK1HKBFoYZIV"
      },
      "source": [
        "# Data Science Programmentwurf von Luca Fischer und Florian Drinkler"
      ]
    },
    {
      "cell_type": "code",
      "metadata": {
        "id": "1m8AwF1aYQ4v"
      },
      "source": [
        ""
      ],
      "execution_count": null,
      "outputs": []
    }
  ]
}